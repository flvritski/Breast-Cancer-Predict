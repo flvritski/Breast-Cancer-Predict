{
 "cells": [
  {
   "cell_type": "code",
   "execution_count": 1,
   "metadata": {},
   "outputs": [
    {
     "name": "stderr",
     "output_type": "stream",
     "text": [
      "Using TensorFlow backend.\n"
     ]
    }
   ],
   "source": [
    "from __future__ import print_function, absolute_import\n",
    "import pandas as pd\n",
    "\n",
    "from keras.models import Sequential\n",
    "from keras.layers import Dense"
   ]
  },
  {
   "cell_type": "code",
   "execution_count": 2,
   "metadata": {},
   "outputs": [],
   "source": [
    "X_train = pd.read_csv(\"~/Desktop/xtrain.csv\", header=None)\n",
    "Y_train = pd.read_csv(\"~/Desktop/ytrain.csv\", header = None)\n",
    "X_test = pd.read_csv(\"~/Desktop/xtest.csv\", header=None)\n",
    "Y_test = pd.read_csv(\"~/Desktop/ytest.csv\", header=None)"
   ]
  },
  {
   "cell_type": "code",
   "execution_count": 3,
   "metadata": {},
   "outputs": [
    {
     "name": "stdout",
     "output_type": "stream",
     "text": [
      "WARNING:tensorflow:From /anaconda3/lib/python3.6/site-packages/tensorflow/python/framework/op_def_library.py:263: colocate_with (from tensorflow.python.framework.ops) is deprecated and will be removed in a future version.\n",
      "Instructions for updating:\n",
      "Colocations handled automatically by placer.\n"
     ]
    }
   ],
   "source": [
    "classifier = Sequential() # Initializing the ANN\n",
    "\n",
    "classifier.add(Dense(units=16, activation='relu', input_dim = 30))\n",
    "classifier.add(Dense(units=8, activation='relu'))\n",
    "classifier.add(Dense(units=6, activation='relu'))\n",
    "classifier.add(Dense(units=1, activation='sigmoid'))"
   ]
  },
  {
   "cell_type": "code",
   "execution_count": 4,
   "metadata": {},
   "outputs": [],
   "source": [
    "classifier.compile(optimizer='rmsprop', loss='binary_crossentropy')"
   ]
  },
  {
   "cell_type": "code",
   "execution_count": 5,
   "metadata": {},
   "outputs": [
    {
     "name": "stdout",
     "output_type": "stream",
     "text": [
      "WARNING:tensorflow:From /anaconda3/lib/python3.6/site-packages/tensorflow/python/ops/math_ops.py:3066: to_int32 (from tensorflow.python.ops.math_ops) is deprecated and will be removed in a future version.\n",
      "Instructions for updating:\n",
      "Use tf.cast instead.\n",
      "Epoch 1/100\n",
      "455/455 [==============================] - 1s 2ms/step - loss: 0.4193\n",
      "Epoch 2/100\n",
      "455/455 [==============================] - 0s 940us/step - loss: 0.1526\n",
      "Epoch 3/100\n",
      "455/455 [==============================] - 0s 934us/step - loss: 0.1004\n",
      "Epoch 4/100\n",
      "455/455 [==============================] - 1s 1ms/step - loss: 0.0852\n",
      "Epoch 5/100\n",
      "455/455 [==============================] - 0s 1ms/step - loss: 0.0862\n",
      "Epoch 6/100\n",
      "455/455 [==============================] - 0s 986us/step - loss: 0.0796 0s - loss: 0.0\n",
      "Epoch 7/100\n",
      "455/455 [==============================] - 0s 964us/step - loss: 0.0821\n",
      "Epoch 8/100\n",
      "455/455 [==============================] - 0s 935us/step - loss: 0.0805\n",
      "Epoch 9/100\n",
      "455/455 [==============================] - 0s 956us/step - loss: 0.0805\n",
      "Epoch 10/100\n",
      "455/455 [==============================] - 0s 936us/step - loss: 0.0805\n",
      "Epoch 11/100\n",
      "455/455 [==============================] - 0s 930us/step - loss: 0.0775\n",
      "Epoch 12/100\n",
      "455/455 [==============================] - 0s 925us/step - loss: 0.0796\n",
      "Epoch 13/100\n",
      "455/455 [==============================] - 0s 935us/step - loss: 0.0756\n",
      "Epoch 14/100\n",
      "455/455 [==============================] - 0s 957us/step - loss: 0.0769\n",
      "Epoch 15/100\n",
      "455/455 [==============================] - 0s 942us/step - loss: 0.0737\n",
      "Epoch 16/100\n",
      "455/455 [==============================] - 0s 935us/step - loss: 0.0765\n",
      "Epoch 17/100\n",
      "455/455 [==============================] - 0s 943us/step - loss: 0.0758\n",
      "Epoch 18/100\n",
      "455/455 [==============================] - 0s 935us/step - loss: 0.0694: 0s - loss: 0.07\n",
      "Epoch 19/100\n",
      "455/455 [==============================] - 1s 1ms/step - loss: 0.0666\n",
      "Epoch 20/100\n",
      "455/455 [==============================] - 0s 1ms/step - loss: 0.0737\n",
      "Epoch 21/100\n",
      "455/455 [==============================] - 0s 973us/step - loss: 0.0725\n",
      "Epoch 22/100\n",
      "455/455 [==============================] - 0s 991us/step - loss: 0.0727\n",
      "Epoch 23/100\n",
      "455/455 [==============================] - 0s 958us/step - loss: 0.0671\n",
      "Epoch 24/100\n",
      "455/455 [==============================] - 0s 940us/step - loss: 0.0629\n",
      "Epoch 25/100\n",
      "455/455 [==============================] - 0s 934us/step - loss: 0.0666\n",
      "Epoch 26/100\n",
      "455/455 [==============================] - 0s 936us/step - loss: 0.0766\n",
      "Epoch 27/100\n",
      "455/455 [==============================] - 0s 951us/step - loss: 0.0759\n",
      "Epoch 28/100\n",
      "455/455 [==============================] - 0s 928us/step - loss: 0.0593\n",
      "Epoch 29/100\n",
      "455/455 [==============================] - 0s 932us/step - loss: 0.0678\n",
      "Epoch 30/100\n",
      "455/455 [==============================] - 0s 945us/step - loss: 0.0697\n",
      "Epoch 31/100\n",
      "455/455 [==============================] - 0s 937us/step - loss: 0.0630\n",
      "Epoch 32/100\n",
      "455/455 [==============================] - 0s 958us/step - loss: 0.0608\n",
      "Epoch 33/100\n",
      "455/455 [==============================] - 0s 930us/step - loss: 0.0643\n",
      "Epoch 34/100\n",
      "455/455 [==============================] - 0s 950us/step - loss: 0.0583A: 0s - loss: 0.0\n",
      "Epoch 35/100\n",
      "455/455 [==============================] - 0s 939us/step - loss: 0.0624\n",
      "Epoch 36/100\n",
      "455/455 [==============================] - 0s 940us/step - loss: 0.0567\n",
      "Epoch 37/100\n",
      "455/455 [==============================] - 0s 960us/step - loss: 0.0579\n",
      "Epoch 38/100\n",
      "455/455 [==============================] - 0s 953us/step - loss: 0.0583\n",
      "Epoch 39/100\n",
      "455/455 [==============================] - 0s 934us/step - loss: 0.0590\n",
      "Epoch 40/100\n",
      "455/455 [==============================] - 0s 936us/step - loss: 0.0487\n",
      "Epoch 41/100\n",
      "455/455 [==============================] - 0s 954us/step - loss: 0.0531\n",
      "Epoch 42/100\n",
      "455/455 [==============================] - 0s 939us/step - loss: 0.0519\n",
      "Epoch 43/100\n",
      "455/455 [==============================] - 0s 939us/step - loss: 0.0622\n",
      "Epoch 44/100\n",
      "455/455 [==============================] - 0s 935us/step - loss: 0.0460\n",
      "Epoch 45/100\n",
      "455/455 [==============================] - 0s 947us/step - loss: 0.0571\n",
      "Epoch 46/100\n",
      "455/455 [==============================] - 0s 969us/step - loss: 0.0434\n",
      "Epoch 47/100\n",
      "455/455 [==============================] - 0s 943us/step - loss: 0.0618\n",
      "Epoch 48/100\n",
      "455/455 [==============================] - 0s 936us/step - loss: 0.0477\n",
      "Epoch 49/100\n",
      "455/455 [==============================] - 0s 942us/step - loss: 0.0519\n",
      "Epoch 50/100\n",
      "455/455 [==============================] - 0s 925us/step - loss: 0.0522\n",
      "Epoch 51/100\n",
      "455/455 [==============================] - 0s 950us/step - loss: 0.0340\n",
      "Epoch 52/100\n",
      "455/455 [==============================] - 0s 985us/step - loss: 0.0394\n",
      "Epoch 53/100\n",
      "455/455 [==============================] - 0s 931us/step - loss: 0.0326\n",
      "Epoch 54/100\n",
      "455/455 [==============================] - 0s 936us/step - loss: 0.0345\n",
      "Epoch 55/100\n",
      "455/455 [==============================] - 0s 955us/step - loss: 0.0342 0s - loss: 0.0\n",
      "Epoch 56/100\n",
      "455/455 [==============================] - 0s 937us/step - loss: 0.0463\n",
      "Epoch 57/100\n",
      "455/455 [==============================] - 0s 931us/step - loss: 0.0478\n",
      "Epoch 58/100\n",
      "455/455 [==============================] - 0s 939us/step - loss: 0.0441\n",
      "Epoch 59/100\n",
      "455/455 [==============================] - 0s 930us/step - loss: 0.0321\n",
      "Epoch 60/100\n",
      "455/455 [==============================] - 0s 952us/step - loss: 0.0403\n",
      "Epoch 61/100\n",
      "455/455 [==============================] - 0s 936us/step - loss: 0.0327\n",
      "Epoch 62/100\n",
      "455/455 [==============================] - 0s 939us/step - loss: 0.0439\n",
      "Epoch 63/100\n",
      "455/455 [==============================] - 0s 946us/step - loss: 0.0255\n",
      "Epoch 64/100\n",
      "455/455 [==============================] - 0s 940us/step - loss: 0.0308\n",
      "Epoch 65/100\n",
      "455/455 [==============================] - 0s 954us/step - loss: 0.0205\n",
      "Epoch 66/100\n",
      "455/455 [==============================] - 0s 948us/step - loss: 0.0177\n",
      "Epoch 67/100\n",
      "455/455 [==============================] - 0s 953us/step - loss: 0.0315\n",
      "Epoch 68/100\n",
      "455/455 [==============================] - 0s 938us/step - loss: 0.0162\n",
      "Epoch 69/100\n",
      "455/455 [==============================] - 0s 960us/step - loss: 0.0137\n",
      "Epoch 70/100\n",
      "455/455 [==============================] - 0s 917us/step - loss: 0.0105\n",
      "Epoch 71/100\n",
      "455/455 [==============================] - 0s 950us/step - loss: 0.0345\n",
      "Epoch 72/100\n",
      "455/455 [==============================] - 0s 933us/step - loss: 0.0228\n",
      "Epoch 73/100\n",
      "455/455 [==============================] - 0s 886us/step - loss: 0.0162\n",
      "Epoch 74/100\n",
      "455/455 [==============================] - 0s 988us/step - loss: 0.0289\n",
      "Epoch 75/100\n",
      "455/455 [==============================] - 0s 950us/step - loss: 0.0110\n",
      "Epoch 76/100\n",
      "455/455 [==============================] - 0s 1ms/step - loss: 0.0288\n",
      "Epoch 77/100\n",
      "455/455 [==============================] - 0s 1ms/step - loss: 0.0208 ETA: 0s - loss: \n",
      "Epoch 78/100\n",
      "455/455 [==============================] - 0s 997us/step - loss: 0.0146\n",
      "Epoch 79/100\n",
      "455/455 [==============================] - 1s 1ms/step - loss: 0.0397\n",
      "Epoch 80/100\n",
      "455/455 [==============================] - 0s 1ms/step - loss: 0.0174\n",
      "Epoch 81/100\n",
      "455/455 [==============================] - 1s 2ms/step - loss: 0.0204\n",
      "Epoch 82/100\n",
      "455/455 [==============================] - 1s 2ms/step - loss: 0.0101\n",
      "Epoch 83/100\n",
      "455/455 [==============================] - 1s 1ms/step - loss: 0.0248\n",
      "Epoch 84/100\n",
      "455/455 [==============================] - 1s 1ms/step - loss: 0.0120\n",
      "Epoch 85/100\n",
      "455/455 [==============================] - 1s 1ms/step - loss: 0.0063A: 0s - loss: 0.006\n",
      "Epoch 86/100\n",
      "455/455 [==============================] - 1s 1ms/step - loss: 0.0112\n",
      "Epoch 87/100\n",
      "455/455 [==============================] - 1s 1ms/step - loss: 0.0104\n",
      "Epoch 88/100\n",
      "455/455 [==============================] - 0s 1ms/step - loss: 0.0128\n",
      "Epoch 89/100\n",
      "455/455 [==============================] - 1s 1ms/step - loss: 0.0219\n",
      "Epoch 90/100\n",
      "455/455 [==============================] - 1s 1ms/step - loss: 0.0133\n",
      "Epoch 91/100\n",
      "455/455 [==============================] - 1s 1ms/step - loss: 0.0044\n",
      "Epoch 92/100\n",
      "455/455 [==============================] - 1s 1ms/step - loss: 0.0076\n",
      "Epoch 93/100\n"
     ]
    },
    {
     "name": "stdout",
     "output_type": "stream",
     "text": [
      "455/455 [==============================] - 1s 1ms/step - loss: 0.0030\n",
      "Epoch 94/100\n",
      "455/455 [==============================] - 0s 1ms/step - loss: 0.0106\n",
      "Epoch 95/100\n",
      "455/455 [==============================] - 1s 1ms/step - loss: 0.0147\n",
      "Epoch 96/100\n",
      "455/455 [==============================] - 1s 1ms/step - loss: 0.0091\n",
      "Epoch 97/100\n",
      "455/455 [==============================] - 1s 1ms/step - loss: 0.0082\n",
      "Epoch 98/100\n",
      "455/455 [==============================] - 1s 1ms/step - loss: 0.0070\n",
      "Epoch 99/100\n",
      "455/455 [==============================] - 1s 1ms/step - loss: 0.0058\n",
      "Epoch 100/100\n",
      "455/455 [==============================] - 1s 1ms/step - loss: 0.0095\n"
     ]
    },
    {
     "data": {
      "text/plain": [
       "<keras.callbacks.History at 0xb274a8c50>"
      ]
     },
     "execution_count": 5,
     "metadata": {},
     "output_type": "execute_result"
    }
   ],
   "source": [
    "classifier.fit(X_train, Y_train, batch_size=1, epochs=100)"
   ]
  },
  {
   "cell_type": "code",
   "execution_count": 6,
   "metadata": {},
   "outputs": [],
   "source": [
    "Y_pred = classifier.predict(X_test)\n",
    "Y_pred = [ 1 if y>=0.5 else 0 for y in Y_pred ]"
   ]
  },
  {
   "cell_type": "code",
   "execution_count": 7,
   "metadata": {},
   "outputs": [
    {
     "name": "stdout",
     "output_type": "stream",
     "text": [
      "Total 114\n",
      "Correct 114\n",
      "Wrong 0\n"
     ]
    }
   ],
   "source": [
    "total = 0\n",
    "correct = 0\n",
    "wrong = 0\n",
    "for i in Y_pred:\n",
    "    total=total+1\n",
    "    if(Y_test.at[i,0] == Y_pred[i]):\n",
    "        correct=correct+1\n",
    "    else:\n",
    "        wrong=wrong+1\n",
    "        \n",
    "print(\"Total \" + str(total))\n",
    "print(\"Correct \" + str(correct))\n",
    "print(\"Wrong \" + str(wrong))"
   ]
  },
  {
   "cell_type": "code",
   "execution_count": null,
   "metadata": {},
   "outputs": [],
   "source": []
  }
 ],
 "metadata": {
  "kernelspec": {
   "display_name": "Python 3",
   "language": "python",
   "name": "python3"
  },
  "language_info": {
   "codemirror_mode": {
    "name": "ipython",
    "version": 3
   },
   "file_extension": ".py",
   "mimetype": "text/x-python",
   "name": "python",
   "nbconvert_exporter": "python",
   "pygments_lexer": "ipython3",
   "version": "3.6.8"
  }
 },
 "nbformat": 4,
 "nbformat_minor": 2
}
